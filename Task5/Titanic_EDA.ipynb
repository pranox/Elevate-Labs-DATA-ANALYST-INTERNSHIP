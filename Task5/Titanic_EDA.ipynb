{
 "cells": [
  {
   "cell_type": "markdown",
   "id": "6d806b69",
   "metadata": {},
   "source": [
    "# Titanic Dataset - Exploratory Data Analysis (EDA)"
   ]
  },
  {
   "cell_type": "code",
   "execution_count": null,
   "id": "5c0314ce",
   "metadata": {},
   "outputs": [],
   "source": [
    "import pandas as pd\n",
    "import numpy as np\n",
    "import matplotlib.pyplot as plt\n",
    "import seaborn as sns\n",
    "\n",
    "# Load the dataset\n",
    "from google.colab import files\n",
    "uploaded = files.upload()\n",
    "\n",
    "df = pd.read_csv('train.csv')\n",
    "df.head()\n"
   ]
  },
  {
   "cell_type": "code",
   "execution_count": null,
   "id": "134a51d4",
   "metadata": {},
   "outputs": [],
   "source": [
    "# Basic Info\n",
    "df.info()\n"
   ]
  },
  {
   "cell_type": "code",
   "execution_count": null,
   "id": "aefc7bf2",
   "metadata": {},
   "outputs": [],
   "source": [
    "# Summary Statistics\n",
    "df.describe(include='all')\n"
   ]
  },
  {
   "cell_type": "code",
   "execution_count": null,
   "id": "3b090436",
   "metadata": {},
   "outputs": [],
   "source": [
    "# Check missing values\n",
    "df.isnull().sum()\n"
   ]
  },
  {
   "cell_type": "code",
   "execution_count": null,
   "id": "7fbe0ea1",
   "metadata": {},
   "outputs": [],
   "source": [
    "# Univariate Analysis - Survival Count\n",
    "sns.countplot(x='Survived', data=df)\n",
    "plt.title('Survival Count')\n",
    "plt.show()\n"
   ]
  },
  {
   "cell_type": "code",
   "execution_count": null,
   "id": "6046abdf",
   "metadata": {},
   "outputs": [],
   "source": [
    "# Gender Distribution\n",
    "sns.countplot(x='Sex', data=df)\n",
    "plt.title('Gender Distribution')\n",
    "plt.show()\n"
   ]
  },
  {
   "cell_type": "code",
   "execution_count": null,
   "id": "c9951ef3",
   "metadata": {},
   "outputs": [],
   "source": [
    "# Pclass Distribution\n",
    "sns.countplot(x='Pclass', data=df)\n",
    "plt.title('Passenger Class Distribution')\n",
    "plt.show()\n"
   ]
  },
  {
   "cell_type": "code",
   "execution_count": null,
   "id": "9f78092f",
   "metadata": {},
   "outputs": [],
   "source": [
    "# Age Distribution\n",
    "plt.figure(figsize=(8,5))\n",
    "sns.histplot(df['Age'].dropna(), kde=True, bins=30)\n",
    "plt.title('Age Distribution')\n",
    "plt.show()\n"
   ]
  },
  {
   "cell_type": "code",
   "execution_count": null,
   "id": "475d3b6f",
   "metadata": {},
   "outputs": [],
   "source": [
    "# Bivariate - Survival by Gender\n",
    "sns.countplot(x='Survived', hue='Sex', data=df)\n",
    "plt.title('Survival by Gender')\n",
    "plt.show()\n"
   ]
  },
  {
   "cell_type": "code",
   "execution_count": null,
   "id": "0e7c8941",
   "metadata": {},
   "outputs": [],
   "source": [
    "# Bivariate - Survival by Pclass\n",
    "sns.countplot(x='Survived', hue='Pclass', data=df)\n",
    "plt.title('Survival by Passenger Class')\n",
    "plt.show()\n"
   ]
  },
  {
   "cell_type": "code",
   "execution_count": null,
   "id": "7aec6090",
   "metadata": {},
   "outputs": [],
   "source": [
    "# Correlation Heatmap (numerical features only)\n",
    "plt.figure(figsize=(10,8))\n",
    "sns.heatmap(df.select_dtypes(include=[np.number]).corr(), annot=True, cmap='coolwarm')\n",
    "plt.title('Correlation Heatmap')\n",
    "plt.show()\n"
   ]
  },
  {
   "cell_type": "markdown",
   "id": "86d740e5",
   "metadata": {},
   "source": [
    "## ✅ Conclusion:\n",
    "- Females had higher survival rate.\n",
    "- 1st class passengers had higher survival.\n",
    "- Age has some skew, with younger and older passengers differing in survival rates.\n",
    "- Pclass, Sex, and Fare are correlated with survival.\n",
    "\n",
    "This completes the Titanic dataset EDA."
   ]
  }
 ],
 "metadata": {},
 "nbformat": 4,
 "nbformat_minor": 5
}
